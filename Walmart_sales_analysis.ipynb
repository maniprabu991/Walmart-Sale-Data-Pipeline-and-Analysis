{
 "cells": [
  {
   "cell_type": "markdown",
   "id": "686ce68d-ee77-4083-925f-e2cfab816ffe",
   "metadata": {},
   "source": [
    "# Import necessary libraries"
   ]
  },
  {
   "cell_type": "code",
   "execution_count": 3,
   "id": "8302bd36-f2b6-4b15-ac67-117e7138a224",
   "metadata": {},
   "outputs": [],
   "source": [
    "from pyspark import SparkContext\n",
    "from pyspark.streaming import StreamingContext"
   ]
  },
  {
   "cell_type": "markdown",
   "id": "ddc2da53-7a82-40c0-8267-dcc543754531",
   "metadata": {},
   "source": [
    "# Initialize SparkContext and StreamingContext\n"
   ]
  },
  {
   "cell_type": "code",
   "execution_count": null,
   "id": "d7e33803-2a00-4f7d-90aa-45d9cfec56ed",
   "metadata": {},
   "outputs": [],
   "source": [
    "sc = SparkContext(\"local[2]\", \"WalmartSalesDataPipeline\")\n",
    "ssc = StreamingContext(sc, 1)"
   ]
  },
  {
   "cell_type": "markdown",
   "id": "7fc4c3ad-c6c7-465c-8351-08aaaec205a6",
   "metadata": {},
   "source": [
    "# Read customer data"
   ]
  },
  {
   "cell_type": "code",
   "execution_count": null,
   "id": "0323c70f-7e5b-43c0-a46e-a54ce4ba0806",
   "metadata": {},
   "outputs": [],
   "source": [
    "customer_data = sc.textFile(\"path/to/customer_data.txt\").map(lambda line: line.split(\"\\t\"))\n"
   ]
  },
  {
   "cell_type": "markdown",
   "id": "0aaf08e2-8742-40e6-92cf-65783ccb4314",
   "metadata": {},
   "source": [
    "# Read sales transaction data"
   ]
  },
  {
   "cell_type": "code",
   "execution_count": null,
   "id": "9e8da6a1-7be3-4dbd-9377-d9a80f3b1218",
   "metadata": {},
   "outputs": [],
   "source": [
    "sales_data = sc.textFile(\"path/to/sales_transaction_data.txt\").map(lambda line: line.split(\"\\t\"))\n"
   ]
  },
  {
   "cell_type": "markdown",
   "id": "ce09e321-afb1-437d-9bc9-45c159596b2a",
   "metadata": {},
   "source": [
    "# Process customer data to get required information"
   ]
  },
  {
   "cell_type": "code",
   "execution_count": null,
   "id": "257b0d29-26cd-4aa3-aa00-96e994fefa84",
   "metadata": {},
   "outputs": [],
   "source": [
    "\n",
    "customer_info = customer_data.map(lambda x: (x[0], {\"Name\": x[1], \"City\": x[2], \"State\": x[3], \"Zip Code\": x[4]}))\n"
   ]
  },
  {
   "cell_type": "markdown",
   "id": "64cbd77c-cdd3-4cff-aa76-7b102add7a48",
   "metadata": {},
   "source": [
    "# Process sales transaction data to get required information"
   ]
  },
  {
   "cell_type": "code",
   "execution_count": null,
   "id": "61f5060b-3f3a-4b23-9d19-4ad7337af59c",
   "metadata": {},
   "outputs": [],
   "source": [
    "# Process sales transaction data to get required information\n",
    "transaction_info = sales_data.map(lambda x: ((x[5], x[6]), {\"Product ID\": x[0], \"Product Name\": x[1], \"Price\": float(x[2]), \"Quantity\": int(x[3]), \"Total Amount\": float(x[4])}))\n"
   ]
  },
  {
   "cell_type": "markdown",
   "id": "222af6df-d93d-475d-a895-8a2bda29beca",
   "metadata": {},
   "source": [
    "# Join customer and sales transaction data"
   ]
  },
  {
   "cell_type": "code",
   "execution_count": null,
   "id": "9a00f801-23c8-4eba-9277-7ef6160381cb",
   "metadata": {},
   "outputs": [],
   "source": [
    "\n",
    "joined_data = transaction_info.join(customer_info)"
   ]
  },
  {
   "cell_type": "markdown",
   "id": "d920c615-d703-4670-bd8c-e4f6631df421",
   "metadata": {},
   "source": [
    "# Get list of products purchased by customers"
   ]
  },
  {
   "cell_type": "code",
   "execution_count": null,
   "id": "90cb44ce-95ba-43f2-a07e-745323c8eeca",
   "metadata": {},
   "outputs": [],
   "source": [
    "\n",
    "products_purchased = joined_data.map(lambda x: (x[1][0][\"Product Name\"], x[1][1][\"Name\"]))\n"
   ]
  },
  {
   "cell_type": "markdown",
   "id": "ec9cf040-d065-4d82-84e5-262fa5bb35b5",
   "metadata": {},
   "source": [
    "# Print the list of products purchased by customers"
   ]
  },
  {
   "cell_type": "code",
   "execution_count": null,
   "id": "6fab7f50-323a-493c-93ca-f05bffed3435",
   "metadata": {},
   "outputs": [],
   "source": [
    "\n",
    "products_purchased.pprint()"
   ]
  },
  {
   "cell_type": "markdown",
   "id": "00c109ed-7e50-44fe-8050-a571ec6854dd",
   "metadata": {},
   "source": [
    "# Start the streaming context"
   ]
  },
  {
   "cell_type": "markdown",
   "id": "0592ee7b-e3d4-4d7d-9b64-f77511ded817",
   "metadata": {},
   "source": [
    "\n",
    "ssc.start()\n",
    "ssc.awaitTermination()"
   ]
  },
  {
   "cell_type": "code",
   "execution_count": null,
   "id": "976d01c1-5b2d-4612-8b5f-04a6e5b5eab5",
   "metadata": {},
   "outputs": [],
   "source": []
  }
 ],
 "metadata": {
  "kernelspec": {
   "display_name": "Python 3 (ipykernel)",
   "language": "python",
   "name": "python3"
  },
  "language_info": {
   "codemirror_mode": {
    "name": "ipython",
    "version": 3
   },
   "file_extension": ".py",
   "mimetype": "text/x-python",
   "name": "python",
   "nbconvert_exporter": "python",
   "pygments_lexer": "ipython3",
   "version": "3.9.18"
  }
 },
 "nbformat": 4,
 "nbformat_minor": 5
}
